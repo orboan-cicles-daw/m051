{
 "cells": [
  {
   "cell_type": "markdown",
   "id": "d17792ce",
   "metadata": {},
   "source": [
    "# Exercici 1\n",
    "\n",
    "- Creem un nou repositori git i hi entrem\n",
    "- configurem les nostres dades (si no ho hem fet abans): global vs repo\n",
    "- git status\n",
    "- afegim un fitxer primer.txt\n",
    "- git status\n",
    "- git add primer.txt\n",
    "- git commit -m \"afegit fitxer primer.txt\"\n"
   ]
  },
  {
   "cell_type": "markdown",
   "id": "f977e1b4",
   "metadata": {},
   "source": [
    "# Exercici 2\n",
    "Continuant l'exercici 1, ara fem:\n",
    "- Eliminem el fitxer primer.txt (rm primer.txt)\n",
    "- git status\n",
    "- git restore primer.txt\n",
    "- git status\n",
    "- git rm primer.txt  #rm vol dir remove\n",
    "- git status\n",
    "- git commit -m \"fitxer primer.txt eliminat\"\n",
    "- git log\n"
   ]
  },
  {
   "cell_type": "markdown",
   "id": "70947bb9-9b99-44dd-93fa-26aba2b02180",
   "metadata": {},
   "source": [
    "# Exercici 3\n",
    "\n",
    "- En la branca master, creeu un fitxer segon.txt\n",
    "\n",
    "- ```git status``` (el fitxer està a l'àrea _workspace_)\n",
    "\n",
    "- ```git add segon.txt```\n",
    "\n",
    "- ```git status``` (el fitxer està a l'àrea _índex_)\n",
    "\n",
    "- ```git commit -m \"commit del fitxer segon.txt\"```\n",
    "\n",
    "- ```git status``` (el fitxer està al _repositori local_)\n",
    "\n",
    "- Creem una nova branca: ```git branch branca1```\n",
    "\n",
    "- Canviem de branca de master a branca1: ```git checkout branca1```\n",
    "\n",
    "- Comprovem que hi ha, a branca1, el mateix que hi havia a la branca master.\n",
    "\n"
   ]
  },
  {
   "cell_type": "markdown",
   "id": "f0c06950",
   "metadata": {},
   "source": [
    "# Exercici 4\n",
    "\n",
    "- Des de la branca master, creeu un tercer fitxer: tercer.txt\n",
    "- git status (el nou fitxer està a l'àrea de _workspace_)\n",
    "- Canviem a la branca _branca1_: \n",
    "    - hi és el fitxer tercer.txt a la branca1?\n",
    "    - És l'àrea de _workspace_ comuna a les diferents branques?\n",
    "- Tornem a la branca master\n",
    "- Fem un ```git add tercer.txt```(el fitxer tercer.txt passa a l'àrea _índex_)\n",
    "- git status \n",
    "- Anem de nou a la branca _branca1_:\n",
    "    - hi és el fitxer tercer.txt a la branca1?\n",
    "    - És l'àrea de _índex_ comuna a les diferents branques?\n",
    "- Tornem a la branca master\n",
    "- Fem un commit del fitxer tercer.txt\n",
    "- git status \n",
    "- Anem de nou a la branca _branca1_:\n",
    "    - hi és el fitxer tercer.txt a la branca1?\n",
    "    - És l'àrea de _repo local_ comuna a les diferents branques?"
   ]
  }
 ],
 "metadata": {
  "kernelspec": {
   "display_name": "Bash",
   "language": "bash",
   "name": "calysto_bash"
  },
  "language_info": {
   "file_extension": ".sh",
   "help_links": [
    {
     "text": "MetaKernel Magics",
     "url": "https://metakernel.readthedocs.io/en/latest/source/README.html"
    }
   ],
   "mimetype": "text/x-sh",
   "name": "bash",
   "version": "0.2.2"
  },
  "nbTranslate": {
   "displayLangs": [
    "*"
   ],
   "hotkey": "alt-t",
   "langInMainMenu": true,
   "sourceLang": "en",
   "targetLang": "ca",
   "useGoogleTranslate": true
  },
  "toc": {
   "base_numbering": 1,
   "nav_menu": {},
   "number_sections": true,
   "sideBar": true,
   "skip_h1_title": false,
   "title_cell": "Table of Contents",
   "title_sidebar": "Contents",
   "toc_cell": false,
   "toc_position": {},
   "toc_section_display": true,
   "toc_window_display": false
  },
  "varInspector": {
   "cols": {
    "lenName": 16,
    "lenType": 16,
    "lenVar": 40
   },
   "kernels_config": {
    "python": {
     "delete_cmd_postfix": "",
     "delete_cmd_prefix": "del ",
     "library": "var_list.py",
     "varRefreshCmd": "print(var_dic_list())"
    },
    "r": {
     "delete_cmd_postfix": ") ",
     "delete_cmd_prefix": "rm(",
     "library": "var_list.r",
     "varRefreshCmd": "cat(var_dic_list()) "
    }
   },
   "types_to_exclude": [
    "module",
    "function",
    "builtin_function_or_method",
    "instance",
    "_Feature"
   ],
   "window_display": false
  }
 },
 "nbformat": 4,
 "nbformat_minor": 5
}
